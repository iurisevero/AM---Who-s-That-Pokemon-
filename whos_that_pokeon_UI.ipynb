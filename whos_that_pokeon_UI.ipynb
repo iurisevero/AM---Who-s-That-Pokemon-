{
 "cells": [
  {
   "cell_type": "code",
   "execution_count": 16,
   "id": "5f245c0d-f077-4236-8a15-911a922d3e7e",
   "metadata": {},
   "outputs": [],
   "source": [
    "# !pip install -Uqq fastbook\n",
    "# !pip install voila\n",
    "# !jupyter serverextension enable --sys-prefix voila"
   ]
  },
  {
   "cell_type": "code",
   "execution_count": 17,
   "id": "0cb7a703-495c-4f4f-a1ec-1e814cfc0375",
   "metadata": {},
   "outputs": [],
   "source": [
    "import requests, json, time, fastbook\n",
    "fastbook.setup_book()\n",
    "\n",
    "from fastbook import *\n",
    "from fastai.vision.widgets import *"
   ]
  },
  {
   "cell_type": "markdown",
   "id": "e7e54d61-a92e-4317-9bbf-7ff8fe8cad39",
   "metadata": {},
   "source": [
    "# Gotta catch 'em all\n",
    "\n",
    "You caught a Pokémon and don't know who it is?\n",
    "Upload it photo using the `Upload` button and them press the `Classify` button to discover **who's thah Pokémon?!**"
   ]
  },
  {
   "cell_type": "code",
   "execution_count": 9,
   "id": "ee755893-6889-4c67-9d9a-3676680132cd",
   "metadata": {},
   "outputs": [],
   "source": [
    "path = Path()\n",
    "pkl_file = path.ls(file_exts='.pkl')\n",
    "learn_inf = load_learner(path/pkl_file[0].name)"
   ]
  },
  {
   "cell_type": "code",
   "execution_count": 10,
   "id": "abf28d83-2f7d-4774-b937-5b550fc937fb",
   "metadata": {},
   "outputs": [],
   "source": [
    "btn_upload = widgets.FileUpload()\n",
    "out_results = widgets.Output()\n",
    "lbl_pred = widgets.Label()\n",
    "btn_run = widgets.Button(description='Classify')\n",
    "\n",
    "def on_click_classify(change):\n",
    "    img = PILImage.create(btn_upload.data[-1])\n",
    "    out_results.clear_output()\n",
    "    with out_results: display(img.to_thumb(128,128))\n",
    "    pred,pred_idx,probs = learn_inf.predict(img)\n",
    "    img = get_who_is_pokemon(pred)\n",
    "    with out_results: display(img.to_thumb(512,512))\n",
    "    time.sleep(1)\n",
    "    img = get_it_is_pokemon(pred)\n",
    "    with out_results: display(img.to_thumb(512,512))\n",
    "    lbl_pred.value = f'Prediction: {pred}; Probability: {probs[pred_idx]:.04f}'\n",
    "\n",
    "def get_who_is_pokemon(pokemon_name):\n",
    "    path_to_find = Path(f'images/who_is/{pokemon_name}.png')\n",
    "    if path_to_find.exists():\n",
    "        return Image.open(path_to_find)\n",
    "    return Image.open('images/who_is/default.jpeg')\n",
    "\n",
    "def get_it_is_pokemon(pokemon_name):\n",
    "    path_to_find = Path(f'images/it_is/{pokemon_name}.png')\n",
    "    if path_to_find.exists():\n",
    "        return Image.open(path_to_find)\n",
    "    return Image.open('images/who_is/default.jpeg')\n",
    "    \n",
    "btn_run.on_click(on_click_classify)"
   ]
  },
  {
   "cell_type": "code",
   "execution_count": 11,
   "id": "05aef4ba-535f-4b7f-9624-8a23fd474def",
   "metadata": {
    "tags": []
   },
   "outputs": [],
   "source": [
    "btn_upload = widgets.FileUpload()"
   ]
  },
  {
   "cell_type": "code",
   "execution_count": 15,
   "id": "f997330f-f353-4e10-a611-c27d755c337e",
   "metadata": {},
   "outputs": [
    {
     "data": {
      "application/vnd.jupyter.widget-view+json": {
       "model_id": "a26516db04c94c94a51df33d6ac362ee",
       "version_major": 2,
       "version_minor": 0
      },
      "text/plain": [
       "VBox(children=(Label(value=\"Who's that Pokémon?\"), FileUpload(value={'00000010.png': {'metadata': {'name': '00…"
      ]
     },
     "metadata": {},
     "output_type": "display_data"
    }
   ],
   "source": [
    "display(VBox([widgets.Label(\"Who's that Pokémon?\"), btn_upload, btn_run, out_results, lbl_pred]))"
   ]
  },
  {
   "cell_type": "code",
   "execution_count": null,
   "id": "5f87d412-2b24-4b4b-8395-3eb4506efe60",
   "metadata": {},
   "outputs": [],
   "source": []
  }
 ],
 "metadata": {
  "kernelspec": {
   "display_name": "Python 3 (ipykernel)",
   "language": "python",
   "name": "python3"
  },
  "language_info": {
   "codemirror_mode": {
    "name": "ipython",
    "version": 3
   },
   "file_extension": ".py",
   "mimetype": "text/x-python",
   "name": "python",
   "nbconvert_exporter": "python",
   "pygments_lexer": "ipython3",
   "version": "3.8.8"
  }
 },
 "nbformat": 4,
 "nbformat_minor": 5
}
