{
 "cells": [
  {
   "cell_type": "code",
   "execution_count": 14,
   "id": "5f245c0d-f077-4236-8a15-911a922d3e7e",
   "metadata": {},
   "outputs": [
    {
     "name": "stdout",
     "output_type": "stream",
     "text": [
      "\u001b[31mERROR: pip's dependency resolver does not currently take into account all the packages that are installed. This behaviour is the source of the following dependency conflicts.\n",
      "spyder 4.2.5 requires pyqt5<5.13, which is not installed.\n",
      "spyder 4.2.5 requires pyqtwebengine<5.13, which is not installed.\n",
      "voila 0.2.10 requires nbconvert<7,>=6.0.0, but you have nbconvert 5.6.1 which is incompatible.\n",
      "spyder 4.2.5 requires jedi==0.17.2, but you have jedi 0.18.0 which is incompatible.\n",
      "spyder 4.2.5 requires parso==0.7.0, but you have parso 0.8.2 which is incompatible.\u001b[0m\n",
      "Requirement already satisfied: voila in /home/iurisevero/anaconda3/lib/python3.8/site-packages (0.2.10)\n",
      "Requirement already satisfied: nbconvert<7,>=6.0.0 in /home/iurisevero/anaconda3/lib/python3.8/site-packages (from voila) (6.0.7)\n",
      "Requirement already satisfied: jupyter-server<2.0.0,>=0.3.0 in /home/iurisevero/.local/lib/python3.8/site-packages (from voila) (1.10.2)\n",
      "Requirement already satisfied: jupyter-client<7,>=6.1.3 in /home/iurisevero/.local/lib/python3.8/site-packages (from voila) (6.1.12)\n",
      "Requirement already satisfied: nbclient<0.6,>=0.4.0 in /home/iurisevero/.local/lib/python3.8/site-packages (from voila) (0.5.3)\n",
      "Requirement already satisfied: tornado>=4.1 in /home/iurisevero/.local/lib/python3.8/site-packages (from jupyter-client<7,>=6.1.3->voila) (6.1)\n",
      "Requirement already satisfied: traitlets in /home/iurisevero/.local/lib/python3.8/site-packages (from jupyter-client<7,>=6.1.3->voila) (5.0.5)\n",
      "Requirement already satisfied: jupyter-core>=4.6.0 in /home/iurisevero/.local/lib/python3.8/site-packages (from jupyter-client<7,>=6.1.3->voila) (4.7.1)\n",
      "Requirement already satisfied: pyzmq>=13 in /home/iurisevero/.local/lib/python3.8/site-packages (from jupyter-client<7,>=6.1.3->voila) (22.2.1)\n",
      "Requirement already satisfied: python-dateutil>=2.1 in /home/iurisevero/anaconda3/lib/python3.8/site-packages (from jupyter-client<7,>=6.1.3->voila) (2.8.1)\n",
      "Requirement already satisfied: websocket-client in /home/iurisevero/.local/lib/python3.8/site-packages (from jupyter-server<2.0.0,>=0.3.0->voila) (1.1.0)\n",
      "Requirement already satisfied: Send2Trash in /home/iurisevero/.local/lib/python3.8/site-packages (from jupyter-server<2.0.0,>=0.3.0->voila) (1.7.1)\n",
      "Requirement already satisfied: nbformat in /home/iurisevero/.local/lib/python3.8/site-packages (from jupyter-server<2.0.0,>=0.3.0->voila) (5.1.3)\n",
      "Requirement already satisfied: anyio<4,>=3.1.0 in /home/iurisevero/.local/lib/python3.8/site-packages (from jupyter-server<2.0.0,>=0.3.0->voila) (3.3.0)\n",
      "Requirement already satisfied: requests-unixsocket in /home/iurisevero/anaconda3/lib/python3.8/site-packages (from jupyter-server<2.0.0,>=0.3.0->voila) (0.2.0)\n",
      "Requirement already satisfied: terminado>=0.8.3 in /home/iurisevero/.local/lib/python3.8/site-packages (from jupyter-server<2.0.0,>=0.3.0->voila) (0.10.1)\n",
      "Requirement already satisfied: ipython-genutils in /home/iurisevero/.local/lib/python3.8/site-packages (from jupyter-server<2.0.0,>=0.3.0->voila) (0.2.0)\n",
      "Requirement already satisfied: jinja2 in /home/iurisevero/.local/lib/python3.8/site-packages (from jupyter-server<2.0.0,>=0.3.0->voila) (3.0.1)\n",
      "Requirement already satisfied: prometheus-client in /home/iurisevero/.local/lib/python3.8/site-packages (from jupyter-server<2.0.0,>=0.3.0->voila) (0.11.0)\n",
      "Requirement already satisfied: argon2-cffi in /home/iurisevero/.local/lib/python3.8/site-packages (from jupyter-server<2.0.0,>=0.3.0->voila) (20.1.0)\n",
      "Requirement already satisfied: sniffio>=1.1 in /home/iurisevero/.local/lib/python3.8/site-packages (from anyio<4,>=3.1.0->jupyter-server<2.0.0,>=0.3.0->voila) (1.2.0)\n",
      "Requirement already satisfied: idna>=2.8 in /home/iurisevero/anaconda3/lib/python3.8/site-packages (from anyio<4,>=3.1.0->jupyter-server<2.0.0,>=0.3.0->voila) (2.10)\n",
      "Requirement already satisfied: async-generator in /home/iurisevero/.local/lib/python3.8/site-packages (from nbclient<0.6,>=0.4.0->voila) (1.10)\n",
      "Requirement already satisfied: nest-asyncio in /home/iurisevero/.local/lib/python3.8/site-packages (from nbclient<0.6,>=0.4.0->voila) (1.5.1)\n",
      "Requirement already satisfied: bleach in /home/iurisevero/.local/lib/python3.8/site-packages (from nbconvert<7,>=6.0.0->voila) (4.0.0)\n",
      "Requirement already satisfied: jupyterlab-pygments in /home/iurisevero/.local/lib/python3.8/site-packages (from nbconvert<7,>=6.0.0->voila) (0.1.2)\n",
      "Requirement already satisfied: defusedxml in /home/iurisevero/.local/lib/python3.8/site-packages (from nbconvert<7,>=6.0.0->voila) (0.7.1)\n",
      "Requirement already satisfied: testpath in /home/iurisevero/.local/lib/python3.8/site-packages (from nbconvert<7,>=6.0.0->voila) (0.5.0)\n",
      "Requirement already satisfied: entrypoints>=0.2.2 in /home/iurisevero/anaconda3/lib/python3.8/site-packages (from nbconvert<7,>=6.0.0->voila) (0.3)\n",
      "Requirement already satisfied: pygments>=2.4.1 in /home/iurisevero/.local/lib/python3.8/site-packages (from nbconvert<7,>=6.0.0->voila) (2.9.0)\n",
      "Requirement already satisfied: pandocfilters>=1.4.1 in /home/iurisevero/.local/lib/python3.8/site-packages (from nbconvert<7,>=6.0.0->voila) (1.4.3)\n",
      "Requirement already satisfied: mistune<2,>=0.8.1 in /home/iurisevero/.local/lib/python3.8/site-packages (from nbconvert<7,>=6.0.0->voila) (0.8.4)\n",
      "Requirement already satisfied: MarkupSafe>=2.0 in /home/iurisevero/.local/lib/python3.8/site-packages (from jinja2->jupyter-server<2.0.0,>=0.3.0->voila) (2.0.1)\n",
      "Requirement already satisfied: jsonschema!=2.5.0,>=2.4 in /home/iurisevero/.local/lib/python3.8/site-packages (from nbformat->jupyter-server<2.0.0,>=0.3.0->voila) (3.2.0)\n",
      "Requirement already satisfied: six>=1.11.0 in /home/iurisevero/.local/lib/python3.8/site-packages (from jsonschema!=2.5.0,>=2.4->nbformat->jupyter-server<2.0.0,>=0.3.0->voila) (1.15.0)\n",
      "Requirement already satisfied: pyrsistent>=0.14.0 in /home/iurisevero/.local/lib/python3.8/site-packages (from jsonschema!=2.5.0,>=2.4->nbformat->jupyter-server<2.0.0,>=0.3.0->voila) (0.18.0)\n",
      "Requirement already satisfied: setuptools in /home/iurisevero/.local/lib/python3.8/site-packages (from jsonschema!=2.5.0,>=2.4->nbformat->jupyter-server<2.0.0,>=0.3.0->voila) (57.4.0)\n",
      "Requirement already satisfied: attrs>=17.4.0 in /home/iurisevero/.local/lib/python3.8/site-packages (from jsonschema!=2.5.0,>=2.4->nbformat->jupyter-server<2.0.0,>=0.3.0->voila) (21.2.0)\n",
      "Requirement already satisfied: ptyprocess in /home/iurisevero/.local/lib/python3.8/site-packages (from terminado>=0.8.3->jupyter-server<2.0.0,>=0.3.0->voila) (0.7.0)\n",
      "Requirement already satisfied: cffi>=1.0.0 in /home/iurisevero/.local/lib/python3.8/site-packages (from argon2-cffi->jupyter-server<2.0.0,>=0.3.0->voila) (1.14.6)\n",
      "Requirement already satisfied: pycparser in /home/iurisevero/.local/lib/python3.8/site-packages (from cffi>=1.0.0->argon2-cffi->jupyter-server<2.0.0,>=0.3.0->voila) (2.20)\n",
      "Requirement already satisfied: webencodings in /home/iurisevero/.local/lib/python3.8/site-packages (from bleach->nbconvert<7,>=6.0.0->voila) (0.5.1)\n",
      "Requirement already satisfied: packaging in /home/iurisevero/.local/lib/python3.8/site-packages (from bleach->nbconvert<7,>=6.0.0->voila) (21.0)\n",
      "Requirement already satisfied: pyparsing>=2.0.2 in /home/iurisevero/.local/lib/python3.8/site-packages (from packaging->bleach->nbconvert<7,>=6.0.0->voila) (2.4.7)\n",
      "Requirement already satisfied: requests>=1.1 in /home/iurisevero/anaconda3/lib/python3.8/site-packages (from requests-unixsocket->jupyter-server<2.0.0,>=0.3.0->voila) (2.25.1)\n",
      "Requirement already satisfied: urllib3>=1.8 in /home/iurisevero/anaconda3/lib/python3.8/site-packages (from requests-unixsocket->jupyter-server<2.0.0,>=0.3.0->voila) (1.26.4)\n",
      "Requirement already satisfied: chardet<5,>=3.0.2 in /home/iurisevero/anaconda3/lib/python3.8/site-packages (from requests>=1.1->requests-unixsocket->jupyter-server<2.0.0,>=0.3.0->voila) (4.0.0)\n",
      "Requirement already satisfied: certifi>=2017.4.17 in /home/iurisevero/anaconda3/lib/python3.8/site-packages (from requests>=1.1->requests-unixsocket->jupyter-server<2.0.0,>=0.3.0->voila) (2020.12.5)\n",
      "Enabling: voila\n",
      "- Writing config: /home/iurisevero/anaconda3/etc/jupyter\n",
      "    - Validating...\n",
      "      voila 0.2.10 \u001b[32mOK\u001b[0m\n"
     ]
    }
   ],
   "source": [
    "!pip install -Uqq fastbook\n",
    "!pip install voila\n",
    "!jupyter serverextension enable --sys-prefix voila"
   ]
  },
  {
   "cell_type": "code",
   "execution_count": 8,
   "id": "0cb7a703-495c-4f4f-a1ec-1e814cfc0375",
   "metadata": {},
   "outputs": [],
   "source": [
    "#hide_output\n",
    "import requests, json, time, fastbook\n",
    "fastbook.setup_book()\n",
    "\n",
    "from fastbook import *\n",
    "from fastai.vision.widgets import *"
   ]
  },
  {
   "cell_type": "code",
   "execution_count": 9,
   "id": "ee755893-6889-4c67-9d9a-3676680132cd",
   "metadata": {},
   "outputs": [],
   "source": [
    "path = Path()\n",
    "pkl_file = path.ls(file_exts='.pkl')\n",
    "learn_inf = load_learner(path/pkl_file[0].name)"
   ]
  },
  {
   "cell_type": "code",
   "execution_count": 10,
   "id": "abf28d83-2f7d-4774-b937-5b550fc937fb",
   "metadata": {},
   "outputs": [],
   "source": [
    "btn_upload = widgets.FileUpload()\n",
    "out_results = widgets.Output()\n",
    "lbl_pred = widgets.Label()\n",
    "btn_run = widgets.Button(description='Classify')\n",
    "\n",
    "def on_click_classify(change):\n",
    "    img = PILImage.create(btn_upload.data[-1])\n",
    "    out_results.clear_output()\n",
    "    with out_results: display(img.to_thumb(128,128))\n",
    "    pred,pred_idx,probs = learn_inf.predict(img)\n",
    "    img = get_who_is_pokemon(pred)\n",
    "    with out_results: display(img.to_thumb(512,512))\n",
    "    time.sleep(1)\n",
    "    img = get_it_is_pokemon(pred)\n",
    "    with out_results: display(img.to_thumb(512,512))\n",
    "    lbl_pred.value = f'Prediction: {pred}; Probability: {probs[pred_idx]:.04f}'\n",
    "\n",
    "def get_who_is_pokemon(pokemon_name):\n",
    "    path_to_find = Path(f'images/who_is/{pokemon_name}.png')\n",
    "    if path_to_find.exists():\n",
    "        return Image.open(path_to_find)\n",
    "    return Image.open('images/who_is/default.jpeg')\n",
    "\n",
    "def get_it_is_pokemon(pokemon_name):\n",
    "    path_to_find = Path(f'images/it_is/{pokemon_name}.png')\n",
    "    if path_to_find.exists():\n",
    "        return Image.open(path_to_find)\n",
    "    return Image.open('images/who_is/default.jpeg')\n",
    "    \n",
    "btn_run.on_click(on_click_classify)"
   ]
  },
  {
   "cell_type": "code",
   "execution_count": 11,
   "id": "05aef4ba-535f-4b7f-9624-8a23fd474def",
   "metadata": {
    "tags": []
   },
   "outputs": [],
   "source": [
    "btn_upload = widgets.FileUpload()"
   ]
  },
  {
   "cell_type": "code",
   "execution_count": 12,
   "id": "f997330f-f353-4e10-a611-c27d755c337e",
   "metadata": {},
   "outputs": [
    {
     "data": {
      "application/vnd.jupyter.widget-view+json": {
       "model_id": "44fde1b7195e49d4959a9dc4d28c0899",
       "version_major": 2,
       "version_minor": 0
      },
      "text/plain": [
       "VBox(children=(Label(value=\"Who's that Pokémon?\"), FileUpload(value={}, description='Upload'), Button(descript…"
      ]
     },
     "metadata": {},
     "output_type": "display_data"
    }
   ],
   "source": [
    "VBox([widgets.Label(\"Who's that Pokémon?\"), \n",
    "      btn_upload, btn_run, out_results, lbl_pred])"
   ]
  }
 ],
 "metadata": {
  "kernelspec": {
   "display_name": "Python 3 (ipykernel)",
   "language": "python",
   "name": "python3"
  },
  "language_info": {
   "codemirror_mode": {
    "name": "ipython",
    "version": 3
   },
   "file_extension": ".py",
   "mimetype": "text/x-python",
   "name": "python",
   "nbconvert_exporter": "python",
   "pygments_lexer": "ipython3",
   "version": "3.8.8"
  }
 },
 "nbformat": 4,
 "nbformat_minor": 5
}
